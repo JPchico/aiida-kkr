{
 "cells": [
  {
   "cell_type": "code",
   "execution_count": null,
   "metadata": {
    "collapsed": false,
    "deletable": true,
    "editable": true
   },
   "outputs": [],
   "source": [
    "%load_ext autoreload\n",
    "%autoreload 2\n",
    "%matplotlib notebook"
   ]
  },
  {
   "cell_type": "code",
   "execution_count": null,
   "metadata": {
    "collapsed": false,
    "deletable": true,
    "editable": true
   },
   "outputs": [],
   "source": [
    "import time\n",
    "import os\n",
    "from aiida import load_dbenv, is_dbenv_loaded\n",
    "if not is_dbenv_loaded():\n",
    "    load_dbenv()\n",
    "from aiida.orm import Code, load_node\n",
    "from aiida.orm import DataFactory, CalculationFactory\n",
    "from aiida_kkr.tools.kkrcontrol import write_kkr_inputcard_template, fill_keywords_to_inputcard, create_keyword_default_values\n",
    "from pprint import pprint\n",
    "from scipy import array\n",
    "from aiida_kkr.calculations.kkr import KkrCalculation\n",
    "from aiida_kkr.calculations.voro import VoronoiCalculation\n",
    "from aiida_kkr.parsers.voro import VoronoiParser\n",
    "from aiida_kkr.parsers.kkr import KkrParser\n",
    "\n",
    "\n",
    "#from aiida_kkr.tools.kkrcontrol import \n",
    "# example_fcc_Cu_lmax2_ASA_noSOC\n",
    "ParameterData = DataFactory('parameter')\n",
    "StructureData = DataFactory('structure')"
   ]
  },
  {
   "cell_type": "code",
   "execution_count": null,
   "metadata": {
    "collapsed": false,
    "deletable": true,
    "editable": true
   },
   "outputs": [],
   "source": [
    "alat = 6.830000 # in a_Bohr\n",
    "abohr = 0.52917721067\n",
    "# number of atom positions in unit cell\n",
    "natyp = 1\n",
    "# bravais vectors\n",
    "bravais = array([[0.5, 0.5, 0.0], [0.5, 0.0, 0.5], [0.0, 0.5, 0.5]])\n",
    "print bravais.max()\n",
    "keywords = create_keyword_default_values()\n",
    "keywords['NATYP'][0] = natyp\n",
    "keywords['ALATBASIS'][0] = alat\n",
    "keywords['NSPIN'][0] = 1\n",
    "keywords['LMAX'][0] = 2\n",
    "# choose only coarse energy contour and k-mesh for test purposes\n",
    "keywords['NPOL'][0] = 4\n",
    "keywords['NPT1'][0] = 3\n",
    "keywords['NPT2'][0] = 10\n",
    "keywords['NPT3'][0] = 3\n",
    "keywords['BZKX'][0] = 10\n",
    "keywords['BZKY'][0] = 10\n",
    "keywords['RCLUSTZ'][0] = 1.50\n",
    "keywords['RCLUSTXY'][0] = 1.50\n",
    "# for ASA\n",
    "keywords['INS'] = [0, '%i']\n",
    "keywords['KSHAPE'] = [0, '%i']"
   ]
  },
  {
   "cell_type": "code",
   "execution_count": null,
   "metadata": {
    "collapsed": false,
    "deletable": true,
    "editable": true
   },
   "outputs": [],
   "source": [
    "1/abohr"
   ]
  },
  {
   "cell_type": "code",
   "execution_count": null,
   "metadata": {
    "collapsed": false,
    "deletable": true,
    "editable": true
   },
   "outputs": [],
   "source": [
    "pprint(keywords)"
   ]
  },
  {
   "cell_type": "code",
   "execution_count": null,
   "metadata": {
    "collapsed": false,
    "deletable": true,
    "editable": true
   },
   "outputs": [],
   "source": [
    "keyw = ParameterData(dict=keywords)\n",
    "#keyw.store()\n",
    "keyw = load_node(79550)\n",
    "print keyw"
   ]
  },
  {
   "cell_type": "code",
   "execution_count": null,
   "metadata": {
    "collapsed": false,
    "deletable": true,
    "editable": true
   },
   "outputs": [],
   "source": [
    "a = 0.5*alat*abohr\n",
    "Cu = StructureData(cell=[[a, a, 0.0], [a, 0.0, a], [0.0, a, a]])\n",
    "Cu.append_atom(position=[0.0, 0.0, 0.0], symbols='Cu')\n",
    "#Cu.store()\n",
    "Cu = load_node(79546)\n",
    "print(Cu)"
   ]
  },
  {
   "cell_type": "code",
   "execution_count": null,
   "metadata": {
    "collapsed": false,
    "deletable": true,
    "editable": true
   },
   "outputs": [],
   "source": [
    "from scipy import array\n",
    "cell = array(Cu.cell)\n",
    "print cell\n",
    "sites = Cu.sites"
   ]
  },
  {
   "cell_type": "code",
   "execution_count": null,
   "metadata": {
    "collapsed": false,
    "deletable": true,
    "editable": true
   },
   "outputs": [],
   "source": [
    "kinds = Cu.kinds\n",
    "print Cu.get_kind('Cu')\n",
    "print kinds\n",
    "for site in sites:\n",
    "    print(site.kind_name)\n",
    "    sitekind = Cu.get_kind('Cu')\n",
    "    symbol = sitekind.symbol\n",
    "    print symbol\n",
    "    a = site.position\n",
    "    print a"
   ]
  },
  {
   "cell_type": "code",
   "execution_count": null,
   "metadata": {
    "collapsed": false,
    "deletable": true,
    "editable": true
   },
   "outputs": [],
   "source": [
    "#CalculationFactory('kkr.voro')"
   ]
  },
  {
   "cell_type": "code",
   "execution_count": null,
   "metadata": {
    "collapsed": false,
    "deletable": true,
    "editable": true
   },
   "outputs": [],
   "source": [
    "! verdi calculation plugins"
   ]
  },
  {
   "cell_type": "code",
   "execution_count": null,
   "metadata": {
    "collapsed": false,
    "deletable": true,
    "editable": true
   },
   "outputs": [],
   "source": [
    "# vornoi\n",
    "code = Code.get_from_string('voro@local_mac')#'kkrimp@local_mac')\n",
    "calc = VoronoiCalculation()#KkrCalculation()\n",
    "calc.label = 'Test kkr'\n",
    "calc.set_withmpi(False)\n",
    "calc.set_resources({\"num_machines\" : 1})\n",
    "calc.set_max_wallclock_seconds(300)\n",
    "calc.set_computer('local_mac')\n",
    "calc.use_code(code)\n",
    "calc.use_structure(Cu)\n",
    "calc.use_parameters(keyw)"
   ]
  },
  {
   "cell_type": "code",
   "execution_count": null,
   "metadata": {
    "collapsed": true,
    "deletable": true,
    "editable": true
   },
   "outputs": [],
   "source": []
  },
  {
   "cell_type": "code",
   "execution_count": null,
   "metadata": {
    "collapsed": true,
    "deletable": true,
    "editable": true
   },
   "outputs": [],
   "source": [
    "submit_test = True"
   ]
  },
  {
   "cell_type": "code",
   "execution_count": null,
   "metadata": {
    "collapsed": false,
    "deletable": true,
    "editable": true
   },
   "outputs": [],
   "source": [
    "if submit_test:\n",
    "    subfolder, script_filename = calc.submit_test()\n",
    "    print \"Test_submit for calculation (uuid='{}')\".format(\n",
    "        calc.uuid)\n",
    "    print \"Submit file in {}\".format(os.path.join(\n",
    "        os.path.relpath(subfolder.abspath),\n",
    "        script_filename\n",
    "    ))\n",
    "else:\n",
    "    calc.store_all()\n",
    "    print \"created calculation; calc=Calculation(uuid='{}') # ID={}\".format(\n",
    "        calc.uuid, calc.dbnode.pk)\n",
    "    calc.submit()\n",
    "    print \"submitted calculation; calc=Calculation(uuid='{}') # ID={}\".format(\n",
    "        calc.uuid, calc.dbnode.pk)"
   ]
  },
  {
   "cell_type": "code",
   "execution_count": null,
   "metadata": {
    "collapsed": false,
    "deletable": true,
    "editable": true
   },
   "outputs": [],
   "source": [
    "! cat submit_test/20171110-00007/_aiidasubmit.sh\n",
    "!ls submit_test/20171110-00001/"
   ]
  },
  {
   "cell_type": "code",
   "execution_count": null,
   "metadata": {
    "collapsed": false,
    "deletable": true,
    "editable": true
   },
   "outputs": [],
   "source": [
    "! cat submit_test/20171110-00007/inputcard"
   ]
  },
  {
   "cell_type": "code",
   "execution_count": null,
   "metadata": {
    "collapsed": true,
    "deletable": true,
    "editable": true
   },
   "outputs": [],
   "source": [
    "n = load_node(79559)\n",
    "retrieved_dict = {'retrieved' : n}"
   ]
  },
  {
   "cell_type": "code",
   "execution_count": null,
   "metadata": {
    "collapsed": false,
    "deletable": true,
    "editable": true
   },
   "outputs": [],
   "source": [
    "voro_parser = VoronoiParser(calc)"
   ]
  },
  {
   "cell_type": "code",
   "execution_count": null,
   "metadata": {
    "collapsed": false,
    "deletable": true,
    "editable": true
   },
   "outputs": [],
   "source": [
    "suc, nodes = voro_parser.parse_with_retrieved(retrieved_dict)"
   ]
  },
  {
   "cell_type": "code",
   "execution_count": null,
   "metadata": {
    "collapsed": false,
    "deletable": true,
    "editable": true
   },
   "outputs": [],
   "source": [
    "print suc\n",
    "print nodes"
   ]
  },
  {
   "cell_type": "code",
   "execution_count": null,
   "metadata": {
    "collapsed": false,
    "deletable": true,
    "editable": true
   },
   "outputs": [],
   "source": [
    "print nodes[0][1].get_dict()['EMIN']"
   ]
  },
  {
   "cell_type": "code",
   "execution_count": null,
   "metadata": {
    "collapsed": false,
    "deletable": true,
    "editable": true
   },
   "outputs": [],
   "source": [
    "calc2 = load_node(79565)"
   ]
  },
  {
   "cell_type": "code",
   "execution_count": null,
   "metadata": {
    "collapsed": false,
    "deletable": true,
    "editable": true
   },
   "outputs": [],
   "source": [
    "#emin = calc1.get_outputs_dict()['output_parameters'].get_dict()['EMIN']\n",
    "emin = calc2.res.EMIN\n",
    "remote = calc2.get_outputs_dict()['remote_folder']\n",
    "keywords2 = keywords\n",
    "keywords2['EMIN'][0] = emin\n",
    "#pprint(keywords2)"
   ]
  },
  {
   "cell_type": "code",
   "execution_count": null,
   "metadata": {
    "collapsed": false,
    "deletable": true,
    "editable": true
   },
   "outputs": [],
   "source": [
    "keyw2 = ParameterData(dict=keywords2)\n",
    "#keyw2.store()\n",
    "keyw2 = load_node(79570)\n",
    "print keyw2"
   ]
  },
  {
   "cell_type": "code",
   "execution_count": null,
   "metadata": {
    "collapsed": false,
    "deletable": true,
    "editable": true
   },
   "outputs": [],
   "source": [
    "isinstance(calc, VoronoiCalculation)"
   ]
  },
  {
   "cell_type": "code",
   "execution_count": null,
   "metadata": {
    "collapsed": false,
    "deletable": true,
    "editable": true
   },
   "outputs": [],
   "source": [
    "# kkr\n",
    "code = Code.get_from_string('kkr1@local_mac')#'kkrimp@local_mac')\n",
    "calc1 = KkrCalculation()\n",
    "calc1.label = 'Test kkr'\n",
    "calc1.set_withmpi(False)\n",
    "calc1.set_resources({\"num_machines\" : 1})\n",
    "calc1.set_max_wallclock_seconds(300)\n",
    "calc1.set_computer('local_mac')\n",
    "calc1.use_code(code)\n",
    "#calc1.use_structure(Cu)\n",
    "calc1.use_parameters(keyw2)\n",
    "calc1.use_parent_folder(remote)"
   ]
  },
  {
   "cell_type": "code",
   "execution_count": null,
   "metadata": {
    "collapsed": false,
    "deletable": true,
    "editable": true
   },
   "outputs": [],
   "source": [
    "from aiida.orm import JobCalculation\n",
    "remote.get_inputs(node_type=JobCalculation)"
   ]
  },
  {
   "cell_type": "code",
   "execution_count": null,
   "metadata": {
    "collapsed": true,
    "deletable": true,
    "editable": true
   },
   "outputs": [],
   "source": [
    "submit_test = False"
   ]
  },
  {
   "cell_type": "code",
   "execution_count": null,
   "metadata": {
    "collapsed": false,
    "deletable": true,
    "editable": true
   },
   "outputs": [],
   "source": [
    "if submit_test:\n",
    "    subfolder, script_filename = calc1.submit_test()\n",
    "    print \"Test_submit for calculation (uuid='{}')\".format(\n",
    "        calc1.uuid)\n",
    "    print \"Submit file in {}\".format(os.path.join(\n",
    "        os.path.relpath(subfolder.abspath),\n",
    "        script_filename\n",
    "    ))\n",
    "else:\n",
    "    calc1.store_all()\n",
    "    print \"created calculation; calc=Calculation(uuid='{}') # ID={}\".format(\n",
    "        calc1.uuid, calc.dbnode.pk)\n",
    "    calc1.submit()\n",
    "    print \"submitted calculation; calc=Calculation(uuid='{}') # ID={}\".format(\n",
    "        calc.uuid, calc.dbnode.pk)"
   ]
  },
  {
   "cell_type": "code",
   "execution_count": null,
   "metadata": {
    "collapsed": false,
    "deletable": true,
    "editable": true
   },
   "outputs": [],
   "source": [
    "!pwd"
   ]
  },
  {
   "cell_type": "code",
   "execution_count": null,
   "metadata": {
    "collapsed": false,
    "deletable": true,
    "editable": true
   },
   "outputs": [],
   "source": [
    "! cat submit_test/20171110-00020///_aiidasubmit.sh\n",
    "! ls submit_test/20171110-00020//\n",
    "! cat submit_test/20171110-00020/inputcard"
   ]
  },
  {
   "cell_type": "code",
   "execution_count": null,
   "metadata": {
    "collapsed": true,
    "deletable": true,
    "editable": true
   },
   "outputs": [],
   "source": []
  },
  {
   "cell_type": "code",
   "execution_count": null,
   "metadata": {
    "collapsed": true,
    "deletable": true,
    "editable": true
   },
   "outputs": [],
   "source": []
  }
 ],
 "metadata": {
  "kernelspec": {
   "display_name": "Python 2",
   "language": "python",
   "name": "python2"
  },
  "language_info": {
   "codemirror_mode": {
    "name": "ipython",
    "version": 2
   },
   "file_extension": ".py",
   "mimetype": "text/x-python",
   "name": "python",
   "nbconvert_exporter": "python",
   "pygments_lexer": "ipython2",
   "version": "2.7.10"
  },
  "toc": {
   "colors": {
    "hover_highlight": "#DAA520",
    "navigate_num": "#000000",
    "navigate_text": "#333333",
    "running_highlight": "#FF0000",
    "selected_highlight": "#FFD700",
    "sidebar_border": "#EEEEEE",
    "wrapper_background": "#FFFFFF"
   },
   "moveMenuLeft": true,
   "nav_menu": {
    "height": "12px",
    "width": "252px"
   },
   "navigate_menu": true,
   "number_sections": true,
   "sideBar": true,
   "skip_h1_title": false,
   "threshold": 4,
   "toc_cell": false,
   "toc_section_display": "block",
   "toc_window_display": false,
   "widenNotebook": false
  },
  "varInspector": {
   "cols": {
    "lenName": 16,
    "lenType": 16,
    "lenVar": 40
   },
   "kernels_config": {
    "python": {
     "delete_cmd_postfix": "",
     "delete_cmd_prefix": "del ",
     "library": "var_list.py",
     "varRefreshCmd": "print(var_dic_list())"
    },
    "r": {
     "delete_cmd_postfix": ") ",
     "delete_cmd_prefix": "rm(",
     "library": "var_list.r",
     "varRefreshCmd": "cat(var_dic_list()) "
    }
   },
   "types_to_exclude": [
    "module",
    "function",
    "builtin_function_or_method",
    "instance",
    "_Feature"
   ],
   "window_display": false
  }
 },
 "nbformat": 4,
 "nbformat_minor": 0
}
